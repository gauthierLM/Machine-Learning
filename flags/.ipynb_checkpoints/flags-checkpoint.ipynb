{
 "cells": [
  {
   "cell_type": "markdown",
   "metadata": {},
   "source": [
    "# PCA example - Flags\n",
    "Data Analysis - ISAE 2018/2019 - Ahmad Berjaoui"
   ]
  },
  {
   "cell_type": "code",
   "execution_count": 1,
   "metadata": {},
   "outputs": [],
   "source": [
    "from os import path #path handling\n",
    "import numpy as np #numpy arrays operation\n",
    "from mpl_toolkits.mplot3d import Axes3D # 3D plots\n",
    "import matplotlib.pyplot as plt #plotting and image viewing\n",
    "from sklearn.decomposition import PCA\n",
    "#inline plots for nicer viewing\n",
    "%matplotlib inline "
   ]
  },
  {
   "cell_type": "code",
   "execution_count": 2,
   "metadata": {},
   "outputs": [],
   "source": [
    "def displayImage(data):\n",
    "  \"\"\"\n",
    "  Display an image from RGB\n",
    "  \n",
    "  Args:\n",
    "    data: (numpy.ndarray) RGB matrix\n",
    "  \"\"\"\n",
    "  plt.imshow(data)\n",
    "  plt.show()\n",
    "  return"
   ]
  },
  {
   "cell_type": "code",
   "execution_count": 3,
   "metadata": {},
   "outputs": [],
   "source": [
    "def correctImageHisto(img):\n",
    "  \"\"\"\n",
    "  Shift image histogram by removing negative values in RGB matrix and normalizing values to [0,1]\n",
    "  \n",
    "  Args:\n",
    "    img: (numpy.ndarray) RGB matrix to shift\n",
    "  \n",
    "  Returns: (numpy.ndarray) Corrected RGB matrix\n",
    "  \"\"\"\n",
    "  shifted = img + np.abs(np.min(img))\n",
    "  corrected = shifted/np.max(shifted)\n",
    "  return corrected"
   ]
  },
  {
   "cell_type": "code",
   "execution_count": 4,
   "metadata": {},
   "outputs": [],
   "source": [
    "def rgbScatterPlot(rgb,name):\n",
    "  \"\"\"\n",
    "  Plot a 3D plot of RGB values\n",
    "  \n",
    "  Args:\n",
    "    rgb: (numpy.ndarray) RGB line matrix\n",
    "    name: (str) Plot name\n",
    "  \"\"\"\n",
    "  fig = plt.figure(figsize=(12, 8), dpi=80, facecolor='w', edgecolor='k')\n",
    "  \n",
    "  ax = fig.add_subplot(111, projection='3d')\n",
    "  ax.scatter(rgb[:,0],rgb[:,1],rgb[:,2])\n",
    "  ax.set_xlabel('Red')\n",
    "  ax.set_ylabel('Green')\n",
    "  ax.set_zlabel('Blue')\n",
    "  plt.title('{} RGB values'.format(name))\n",
    "  plt.show()\n",
    "  return"
   ]
  },
  {
   "cell_type": "code",
   "execution_count": 5,
   "metadata": {},
   "outputs": [],
   "source": [
    "def getRGBMatrix(x):\n",
    "  \"\"\"\n",
    "  Build a line-wise RGB matrix from an image, in preparation for PCA\n",
    "  \n",
    "  Args:\n",
    "    x: (numpy.ndarray) Input image of shape (M,N,3)\n",
    "  \n",
    "  Returns: (numpy,ndarray) RGB line matrix of shape (M*N,3)\n",
    "  \"\"\"\n",
    "  y = np.reshape(x,(-1,3))\n",
    "  rgb = np.array([y[:,0],y[:,1],y[:,2]]).transpose()\n",
    "  return rgb"
   ]
  },
  {
   "cell_type": "markdown",
   "metadata": {},
   "source": [
    "## 1- Data loading"
   ]
  },
  {
   "cell_type": "code",
   "execution_count": 8,
   "metadata": {},
   "outputs": [
    {
     "ename": "FileNotFoundError",
     "evalue": "[Errno 2] No such file or directory: 'France1'",
     "output_type": "error",
     "traceback": [
      "\u001b[1;31m---------------------------------------------------------------------------\u001b[0m",
      "\u001b[1;31mFileNotFoundError\u001b[0m                         Traceback (most recent call last)",
      "\u001b[1;32m<ipython-input-8-f87f9d333517>\u001b[0m in \u001b[0;36m<module>\u001b[1;34m()\u001b[0m\n\u001b[0;32m      5\u001b[0m \u001b[1;31m#murene = plt.imread(path.join(dataPath,'murene.jpg'))/255.0\u001b[0m\u001b[1;33m\u001b[0m\u001b[1;33m\u001b[0m\u001b[0m\n\u001b[0;32m      6\u001b[0m \u001b[0mflagUK\u001b[0m \u001b[1;33m=\u001b[0m \u001b[0mplt\u001b[0m\u001b[1;33m.\u001b[0m\u001b[0mimread\u001b[0m\u001b[1;33m(\u001b[0m\u001b[1;34m'UK.jpg'\u001b[0m\u001b[1;33m)\u001b[0m\u001b[1;33m\u001b[0m\u001b[0m\n\u001b[1;32m----> 7\u001b[1;33m \u001b[0mflagFR1\u001b[0m \u001b[1;33m=\u001b[0m \u001b[0mplt\u001b[0m\u001b[1;33m.\u001b[0m\u001b[0mimread\u001b[0m\u001b[1;33m(\u001b[0m\u001b[1;34m'France1'\u001b[0m\u001b[1;33m)\u001b[0m\u001b[1;33m\u001b[0m\u001b[0m\n\u001b[0m\u001b[0;32m      8\u001b[0m \u001b[0mflagFR2\u001b[0m \u001b[1;33m=\u001b[0m \u001b[0mplt\u001b[0m\u001b[1;33m.\u001b[0m\u001b[0mimread\u001b[0m\u001b[1;33m(\u001b[0m\u001b[1;34m'France2'\u001b[0m\u001b[1;33m)\u001b[0m\u001b[1;33m\u001b[0m\u001b[0m\n",
      "\u001b[1;32m~\\Anaconda3\\lib\\site-packages\\matplotlib\\pyplot.py\u001b[0m in \u001b[0;36mimread\u001b[1;34m(*args, **kwargs)\u001b[0m\n\u001b[0;32m   2371\u001b[0m \u001b[1;33m@\u001b[0m\u001b[0mdocstring\u001b[0m\u001b[1;33m.\u001b[0m\u001b[0mcopy_dedent\u001b[0m\u001b[1;33m(\u001b[0m\u001b[0m_imread\u001b[0m\u001b[1;33m)\u001b[0m\u001b[1;33m\u001b[0m\u001b[0m\n\u001b[0;32m   2372\u001b[0m \u001b[1;32mdef\u001b[0m \u001b[0mimread\u001b[0m\u001b[1;33m(\u001b[0m\u001b[1;33m*\u001b[0m\u001b[0margs\u001b[0m\u001b[1;33m,\u001b[0m \u001b[1;33m**\u001b[0m\u001b[0mkwargs\u001b[0m\u001b[1;33m)\u001b[0m\u001b[1;33m:\u001b[0m\u001b[1;33m\u001b[0m\u001b[0m\n\u001b[1;32m-> 2373\u001b[1;33m     \u001b[1;32mreturn\u001b[0m \u001b[0m_imread\u001b[0m\u001b[1;33m(\u001b[0m\u001b[1;33m*\u001b[0m\u001b[0margs\u001b[0m\u001b[1;33m,\u001b[0m \u001b[1;33m**\u001b[0m\u001b[0mkwargs\u001b[0m\u001b[1;33m)\u001b[0m\u001b[1;33m\u001b[0m\u001b[0m\n\u001b[0m\u001b[0;32m   2374\u001b[0m \u001b[1;33m\u001b[0m\u001b[0m\n\u001b[0;32m   2375\u001b[0m \u001b[1;33m\u001b[0m\u001b[0m\n",
      "\u001b[1;32m~\\Anaconda3\\lib\\site-packages\\matplotlib\\image.py\u001b[0m in \u001b[0;36mimread\u001b[1;34m(fname, format)\u001b[0m\n\u001b[0;32m   1355\u001b[0m \u001b[1;33m\u001b[0m\u001b[0m\n\u001b[0;32m   1356\u001b[0m     \u001b[1;32mif\u001b[0m \u001b[0mext\u001b[0m \u001b[1;32mnot\u001b[0m \u001b[1;32min\u001b[0m \u001b[0mhandlers\u001b[0m\u001b[1;33m:\u001b[0m\u001b[1;33m\u001b[0m\u001b[0m\n\u001b[1;32m-> 1357\u001b[1;33m         \u001b[0mim\u001b[0m \u001b[1;33m=\u001b[0m \u001b[0mpilread\u001b[0m\u001b[1;33m(\u001b[0m\u001b[0mfname\u001b[0m\u001b[1;33m)\u001b[0m\u001b[1;33m\u001b[0m\u001b[0m\n\u001b[0m\u001b[0;32m   1358\u001b[0m         \u001b[1;32mif\u001b[0m \u001b[0mim\u001b[0m \u001b[1;32mis\u001b[0m \u001b[1;32mNone\u001b[0m\u001b[1;33m:\u001b[0m\u001b[1;33m\u001b[0m\u001b[0m\n\u001b[0;32m   1359\u001b[0m             raise ValueError('Only know how to handle extensions: %s; '\n",
      "\u001b[1;32m~\\Anaconda3\\lib\\site-packages\\matplotlib\\image.py\u001b[0m in \u001b[0;36mpilread\u001b[1;34m(fname)\u001b[0m\n\u001b[0;32m   1333\u001b[0m         \u001b[1;32mexcept\u001b[0m \u001b[0mImportError\u001b[0m\u001b[1;33m:\u001b[0m\u001b[1;33m\u001b[0m\u001b[0m\n\u001b[0;32m   1334\u001b[0m             \u001b[1;32mreturn\u001b[0m \u001b[1;32mNone\u001b[0m\u001b[1;33m\u001b[0m\u001b[0m\n\u001b[1;32m-> 1335\u001b[1;33m         \u001b[1;32mwith\u001b[0m \u001b[0mImage\u001b[0m\u001b[1;33m.\u001b[0m\u001b[0mopen\u001b[0m\u001b[1;33m(\u001b[0m\u001b[0mfname\u001b[0m\u001b[1;33m)\u001b[0m \u001b[1;32mas\u001b[0m \u001b[0mimage\u001b[0m\u001b[1;33m:\u001b[0m\u001b[1;33m\u001b[0m\u001b[0m\n\u001b[0m\u001b[0;32m   1336\u001b[0m             \u001b[1;32mreturn\u001b[0m \u001b[0mpil_to_array\u001b[0m\u001b[1;33m(\u001b[0m\u001b[0mimage\u001b[0m\u001b[1;33m)\u001b[0m\u001b[1;33m\u001b[0m\u001b[0m\n\u001b[0;32m   1337\u001b[0m \u001b[1;33m\u001b[0m\u001b[0m\n",
      "\u001b[1;32m~\\Anaconda3\\lib\\site-packages\\PIL\\Image.py\u001b[0m in \u001b[0;36mopen\u001b[1;34m(fp, mode)\u001b[0m\n\u001b[0;32m   2578\u001b[0m \u001b[1;33m\u001b[0m\u001b[0m\n\u001b[0;32m   2579\u001b[0m     \u001b[1;32mif\u001b[0m \u001b[0mfilename\u001b[0m\u001b[1;33m:\u001b[0m\u001b[1;33m\u001b[0m\u001b[0m\n\u001b[1;32m-> 2580\u001b[1;33m         \u001b[0mfp\u001b[0m \u001b[1;33m=\u001b[0m \u001b[0mbuiltins\u001b[0m\u001b[1;33m.\u001b[0m\u001b[0mopen\u001b[0m\u001b[1;33m(\u001b[0m\u001b[0mfilename\u001b[0m\u001b[1;33m,\u001b[0m \u001b[1;34m\"rb\"\u001b[0m\u001b[1;33m)\u001b[0m\u001b[1;33m\u001b[0m\u001b[0m\n\u001b[0m\u001b[0;32m   2581\u001b[0m         \u001b[0mexclusive_fp\u001b[0m \u001b[1;33m=\u001b[0m \u001b[1;32mTrue\u001b[0m\u001b[1;33m\u001b[0m\u001b[0m\n\u001b[0;32m   2582\u001b[0m \u001b[1;33m\u001b[0m\u001b[0m\n",
      "\u001b[1;31mFileNotFoundError\u001b[0m: [Errno 2] No such file or directory: 'France1'"
     ]
    }
   ],
   "source": [
    "#dataPath = '/home/aberjaoui//Desktop/ISAE/solutions/data/flags' # path to folder containing the data\n",
    "#flagUK = plt.imread(path.join(dataPath,'UK.jpg'))/255.0 # divide by 255 to get values between 0 and 1\n",
    "#flagFR1 = plt.imread(path.join(dataPath,'France1.png')) # values already between 0 and 1 for png\n",
    "#flagFR2 = plt.imread(path.join(dataPath,'France2.jpg'))/255.0 # divide by 255 to get values between 0 and 1\n",
    "#murene = plt.imread(path.join(dataPath,'murene.jpg'))/255.0\n",
    "flagUK = plt.imread('UK.jpg')\n",
    "flagFR1 = plt.imread('France1.jpg')\n",
    "flagFR2 = plt.imread('France2.jpg')"
   ]
  },
  {
   "cell_type": "code",
   "execution_count": null,
   "metadata": {},
   "outputs": [],
   "source": [
    "for flag in [flagUK,flagFR1,flagFR2]:\n",
    "  displayImage(flag)"
   ]
  },
  {
   "cell_type": "markdown",
   "metadata": {},
   "source": [
    "## 2- PCA"
   ]
  },
  {
   "cell_type": "code",
   "execution_count": null,
   "metadata": {},
   "outputs": [],
   "source": [
    "# Select a flag to generate a basis\n",
    "# and save its shape\n",
    "\n",
    "baseData = flagFR1\n",
    "baseShape = baseData.shape"
   ]
  },
  {
   "cell_type": "code",
   "execution_count": null,
   "metadata": {},
   "outputs": [],
   "source": [
    "# Select another flag (can be the basis flag) to be decomposed in the previous basis\n",
    "# and save its shape\n",
    "\n",
    "otherData = murene\n",
    "otherShape = otherData.shape"
   ]
  },
  {
   "cell_type": "code",
   "execution_count": null,
   "metadata": {},
   "outputs": [],
   "source": [
    "# Create a PCA object\n",
    "\n",
    "pca = PCA(n_components=2,\n",
    "          copy=True,\n",
    "          whiten=False,\n",
    "          svd_solver='full',\n",
    "          tol=0.0,\n",
    "          iterated_power='auto',\n",
    "          random_state=None)"
   ]
  },
  {
   "cell_type": "code",
   "execution_count": null,
   "metadata": {},
   "outputs": [],
   "source": [
    "# reshape the data as a R,G,B matrix (each component is a line)\n",
    "\n",
    "baseRGB = getRGBMatrix(baseData)\n",
    "print(baseRGB.shape)\n",
    "rgbScatterPlot(baseRGB,'Base')"
   ]
  },
  {
   "cell_type": "code",
   "execution_count": null,
   "metadata": {},
   "outputs": [],
   "source": [
    "# Apply decomposition\n",
    "\n",
    "decomposition = pca.fit(baseRGB)\n",
    "eigenVectors = decomposition.components_\n",
    "eigenValues = decomposition.singular_values_\n",
    "print('Variances explanation ratios: {}\\n'.format(decomposition.explained_variance_))\n",
    "\n",
    "print('Eigen Vectors:\\n {}\\n'.format(eigenVectors))\n",
    "print('Eigen Values:\\n {}\\n'.format(eigenValues))"
   ]
  },
  {
   "cell_type": "markdown",
   "metadata": {},
   "source": [
    "## 3- Dimension reduction"
   ]
  },
  {
   "cell_type": "code",
   "execution_count": null,
   "metadata": {},
   "outputs": [],
   "source": [
    "# Decompose the other flag in the eigen vectors frame\n",
    "\n",
    "otherRGB = getRGBMatrix(otherData) # get RGB data for other flag\n",
    "\n",
    "reducedOtherCoeffs = decomposition.transform(otherRGB) # get base components for each eigen vector\n",
    "reducedOtherVectors = np.dot(reducedOtherCoeffs,eigenVectors) # scalar product to return to colors"
   ]
  },
  {
   "cell_type": "code",
   "execution_count": null,
   "metadata": {},
   "outputs": [],
   "source": [
    "# Reshape reduced data into an image, correct histogram and display it\n",
    "reducedOtherImage = correctImageHisto(np.reshape(reducedOtherVectors,otherShape))\n",
    "displayImage(reducedOtherImage)"
   ]
  },
  {
   "cell_type": "code",
   "execution_count": null,
   "metadata": {},
   "outputs": [],
   "source": [
    "rgbScatterPlot(otherRGB,'Other flag (full)')\n",
    "rgbScatterPlot(correctImageHisto(reducedOtherVectors),'Other flag (reduced)')"
   ]
  },
  {
   "cell_type": "code",
   "execution_count": null,
   "metadata": {},
   "outputs": [],
   "source": []
  }
 ],
 "metadata": {
  "kernelspec": {
   "display_name": "Python 3",
   "language": "python",
   "name": "python3"
  },
  "language_info": {
   "codemirror_mode": {
    "name": "ipython",
    "version": 3
   },
   "file_extension": ".py",
   "mimetype": "text/x-python",
   "name": "python",
   "nbconvert_exporter": "python",
   "pygments_lexer": "ipython3",
   "version": "3.7.0"
  }
 },
 "nbformat": 4,
 "nbformat_minor": 2
}
