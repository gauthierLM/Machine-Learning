{
 "cells": [
  {
   "cell_type": "markdown",
   "metadata": {},
   "source": [
    "# LANGAGE DES SIGNES"
   ]
  },
  {
   "cell_type": "code",
   "execution_count": 45,
   "metadata": {},
   "outputs": [],
   "source": [
    "#IMPORTS\n",
    "import os #path handling\n",
    "import numpy as np #import numpy drives sklearn to use numpy arrays instead of python lists\n",
    "import pandas as pd #CSV and dataframe handling\n",
    "import matplotlib.pyplot as plt\n",
    "\n",
    "from sklearn.model_selection import train_test_split #Data set splitting functions\n",
    "from sklearn.metrics import confusion_matrix #Confusion matrix\n",
    "from sklearn.datasets import fetch_mldata\n",
    "from sklearn.preprocessing import StandardScaler\n",
    "from sklearn.datasets import fetch_mldata\n",
    "from skimage.transform import resize\n",
    "\n",
    "from sklearn.neural_network import MLPClassifier\n",
    "from sklearn.ensemble import AdaBoostClassifier\n",
    "from sklearn.neighbors import KNeighborsClassifier #kNN classifier\n",
    "\n",
    "import skimage\n",
    "from skimage import filters\n",
    "from skimage import morphology\n",
    "\n",
    "import warnings\n",
    "warnings.filterwarnings('ignore')\n",
    "\n",
    "mnist = fetch_mldata('MNIST original')"
   ]
  },
  {
   "cell_type": "code",
   "execution_count": 10,
   "metadata": {},
   "outputs": [],
   "source": [
    "dataPath = '/Users/timon/Desktop/Data_analysis/BE/signLanguage/' #\n",
    "dataFile = os.path.join(dataPath,'X.npy') # data file to use\n",
    "image = np.load(dataFile)\n",
    "targetFile = os.path.join(dataPath,'Y.npy') # data file to use\n",
    "target = np.load(targetFile)"
   ]
  },
  {
   "cell_type": "markdown",
   "metadata": {},
   "source": [
    "# 1 - Traitement d'image"
   ]
  },
  {
   "cell_type": "code",
   "execution_count": 11,
   "metadata": {},
   "outputs": [],
   "source": [
    "label = os.path.join(dataPath,'classesLabels.txt') \n",
    "correspondance = pd.read_csv(label)\n",
    "k=np.size(target)\n",
    "goal=np.zeros(2062)\n",
    "\n",
    "def labelToSignNumber(label):\n",
    "  \"\"\"\n",
    "  Convert a one-hot encoded label to the\n",
    "  corresponding sign language value.\n",
    "  Mapping is given in the ClassLabels.txt\n",
    "  file.\n",
    "  \n",
    "  Args:\n",
    "    label: (numpy.array) One-hot encoded label\n",
    "\n",
    "  Returns: (float) Sign language value\n",
    "  \"\"\"\n",
    "  labelValue = np.argmax(label)\n",
    "  mapping = {0:9,\n",
    "             1:0,\n",
    "             2:7,\n",
    "             3:6,\n",
    "             4:1,\n",
    "             5:8,\n",
    "             6:4,\n",
    "             7:3,\n",
    "             8:2,\n",
    "             9:5}\n",
    "  return mapping[labelValue]\n",
    "\n",
    "target = [labelToSignNumber(item) for item in target]"
   ]
  },
  {
   "cell_type": "code",
   "execution_count": 14,
   "metadata": {},
   "outputs": [
    {
     "data": {
      "image/png": "[encoded data removed]",
      "text/plain": [
       "<Figure size 432x288 with 1 Axes>"
      ]
     },
     "metadata": {},
     "output_type": "display_data"
    }
   ],
   "source": [
    "def contrast(image):\n",
    "    #val = filters.threshold_otsu(im)\n",
    "    #mask = im < val\n",
    "    simple_threshold = image > filters.threshold_otsu(image)\n",
    "    #adaptive_threshold = filters.threshold_adaptive(im, 101)\n",
    "    filter_res = skimage.morphology.remove_small_objects(simple_threshold)\n",
    "\n",
    "    lx, ly = image.shape\n",
    "    X, Y = np.ogrid[0:lx, 0:ly]\n",
    "    mask = (X - lx/2)**2 + (Y - ly/2)**2 > lx*ly/7\n",
    "    # Using masks\n",
    "    filter_res[mask] = 1\n",
    "    return filter_res\n",
    "\n",
    "image_cont = contrast(image[1789])\n",
    "plt.imshow(image_cont);"
   ]
  },
  {
   "cell_type": "code",
   "execution_count": 15,
   "metadata": {},
   "outputs": [
    {
     "data": {
      "image/png": "[encoded data removed]",
      "text/plain": [
       "<Figure size 432x288 with 1 Axes>"
      ]
     },
     "metadata": {},
     "output_type": "display_data"
    }
   ],
   "source": [
    "def crop(ima):\n",
    "    n,m = ima.shape\n",
    "    maxx=minx=maxy=miny = 0\n",
    "    j = i = 0\n",
    "    while miny==0 and j<m:\n",
    "        if (ima[i][j]!=1):\n",
    "            miny=j              \n",
    "        i+=1\n",
    "        if (i==n-1):\n",
    "            i=0\n",
    "            j+=1\n",
    "    i=0\n",
    "    while minx==0 and i<n:\n",
    "        if (ima[i][j]!=1):\n",
    "            minx=i               \n",
    "        j+=1\n",
    "        if (j==m-1):\n",
    "            j=miny\n",
    "            i+=1\n",
    "    j=m-1\n",
    "    while maxy==0 and j>miny:\n",
    "        if (ima[i][j]!=1):\n",
    "            maxy=j               \n",
    "        i+=1\n",
    "        if (i==n-1):\n",
    "            i=minx\n",
    "            j-=1\n",
    "    i=n-1\n",
    "    while maxx==0 and i>minx:\n",
    "        if (ima[i][j]!=1):\n",
    "            maxx=i               \n",
    "        j-=1\n",
    "        if (j==miny):\n",
    "            j=maxy\n",
    "            i-=1\n",
    "    new_image= ima[minx:maxx-10,miny:maxy]\n",
    "    return (new_image)\n",
    "\n",
    "image_cut = crop(image_cont)\n",
    "plt.imshow(image_cut);"
   ]
  },
  {
   "cell_type": "code",
   "execution_count": 16,
   "metadata": {},
   "outputs": [
    {
     "data": {
      "image/png": "[encoded data removed]",
      "text/plain": [
       "<Figure size 432x288 with 1 Axes>"
      ]
     },
     "metadata": {},
     "output_type": "display_data"
    }
   ],
   "source": [
    "image_cadré = resize(image_cut,(20,15))\n",
    "plt.imshow(image_cadré);\n",
    "\n",
    "simple_threshold = image_cadré > filters.threshold_otsu(image_cadré)\n",
    "plt.imshow(simple_threshold);"
   ]
  },
  {
   "cell_type": "code",
   "execution_count": 17,
   "metadata": {},
   "outputs": [],
   "source": [
    "def transformation(image):\n",
    "    image_cont = contrast(image)\n",
    "    image_cut = crop(image_cont)\n",
    "    image_cadré = resize(image_cut,(20,15))\n",
    "    finale = image_cadré > filters.threshold_otsu(image_cadré)\n",
    "    return finale"
   ]
  },
  {
   "cell_type": "code",
   "execution_count": 18,
   "metadata": {},
   "outputs": [],
   "source": [
    "data = [transformation(item) for item in image]"
   ]
  },
  {
   "cell_type": "code",
   "execution_count": 39,
   "metadata": {},
   "outputs": [],
   "source": [
    "newdata=[(np.array(item)).flatten() for item in data]\n",
    "trainData,testData,trainY,testY = train_test_split(newdata,target,test_size=0.2)"
   ]
  },
  {
   "cell_type": "code",
   "execution_count": 42,
   "metadata": {},
   "outputs": [
    {
     "name": "stdout",
     "output_type": "stream",
     "text": [
      "0.8983050847457628\n",
      "[[38  1  1  0  1  0  0  0  0  0]\n",
      " [ 0 47  0  1  0  0  0  0  1  0]\n",
      " [ 0  2 35  0  0  0  0  0  0  0]\n",
      " [ 0  1  0 44  0  1  0  1  2  0]\n",
      " [ 2  0  0  2 29  0  2  1  1  3]\n",
      " [ 0  0  0  2  2 37  0  0  0  4]\n",
      " [ 0  0  1  0  0  0 41  0  0  0]\n",
      " [ 0  1  0  0  0  2  0 27  2  0]\n",
      " [ 1  0  0  0  0  0  0  1 36  2]\n",
      " [ 0  0  0  0  0  1  0  0  0 37]]\n"
     ]
    },
    {
     "data": {
      "image/png": "[encoded data removed]",
      "text/plain": [
       "<Figure size 288x288 with 1 Axes>"
      ]
     },
     "metadata": {},
     "output_type": "display_data"
    }
   ],
   "source": [
    "clf = MLPClassifier(solver='lbfgs',random_state=0)\n",
    "\n",
    "clf.fit(trainData,trainY)\n",
    "print(clf.score(testData,testY))\n",
    "\n",
    "# Check the classifier's performance on the test data\n",
    "predictions = clf.predict(testData)\n",
    "testCM = confusion_matrix(y_pred=predictions,y_true=testY)\n",
    "print(testCM)\n",
    "plt.matshow(testCM);"
   ]
  },
  {
   "cell_type": "code",
   "execution_count": 47,
   "metadata": {},
   "outputs": [
    {
     "name": "stdout",
     "output_type": "stream",
     "text": [
      "0.9128329297820823\n",
      "[[40  0  0  0  1  0  0  0  0  0]\n",
      " [ 0 48  1  0  0  0  0  0  0  0]\n",
      " [ 0  1 36  0  0  0  0  0  0  0]\n",
      " [ 0  1  1 45  0  1  0  1  0  0]\n",
      " [ 0  0  0  2 29  2  0  4  1  2]\n",
      " [ 0  0  0  0  0 44  0  0  1  0]\n",
      " [ 1  0  4  0  0  0 35  2  0  0]\n",
      " [ 0  3  0  0  0  0  0 29  0  0]\n",
      " [ 0  0  1  0  2  0  1  0 36  0]\n",
      " [ 0  1  0  0  0  0  0  1  1 35]]\n"
     ]
    },
    {
     "data": {
      "image/png": "[encoded data removed]",
      "text/plain": [
       "<Figure size 288x288 with 1 Axes>"
      ]
     },
     "metadata": {},
     "output_type": "display_data"
    }
   ],
   "source": [
    "clf = KNeighborsClassifier(n_neighbors=3,algorithm='kd_tree',metric='minkowski',p=2,n_jobs=-1)\n",
    "#AdaBoostClassifier(n_estimators=50)\n",
    "\n",
    "clf.fit(trainData,trainY)\n",
    "print(clf.score(testData,testY))\n",
    "\n",
    "# Check the classifier's performance on the test data\n",
    "predictions = clf.predict(testData)\n",
    "testCM = confusion_matrix(y_pred=predictions,y_true=testY)\n",
    "print(testCM)\n",
    "plt.matshow(testCM);"
   ]
  },
  {
   "cell_type": "code",
   "execution_count": null,
   "metadata": {},
   "outputs": [],
   "source": []
  }
 ],
 "metadata": {
  "kernelspec": {
   "display_name": "Python 3",
   "language": "python",
   "name": "python3"
  },
  "language_info": {
   "codemirror_mode": {
    "name": "ipython",
    "version": 3
   },
   "file_extension": ".py",
   "mimetype": "text/x-python",
   "name": "python",
   "nbconvert_exporter": "python",
   "pygments_lexer": "ipython3",
   "version": "3.6.5"
  }
 },
 "nbformat": 4,
 "nbformat_minor": 2
}
